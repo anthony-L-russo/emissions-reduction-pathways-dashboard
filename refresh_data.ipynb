{
 "cells": [
  {
   "cell_type": "code",
   "execution_count": null,
   "id": "21ce7317",
   "metadata": {},
   "outputs": [],
   "source": [
    "from utils.run_sql import run_sql\n",
    "\n",
    "# grabbing data from asset table\n",
    "asset_query = '''\n",
    "    select ca.name country_name\n",
    "        , ae.iso3_country\n",
    "        , original_inventory_sector\n",
    "        , to_char(start_time, 'YYYY-MM') as year_month\n",
    "        , ae.gas\n",
    "        , sum(activity) activity\n",
    "        , avg(emissions_factor) mean_emissions_factor\n",
    "        , sum(emissions_quantity) emissions_quantity\n",
    "\n",
    "    from asset_emissions ae\n",
    "    left join country_analysis ca\n",
    "        on cast(ca.iso3_country as varchar) = cast(ae.iso3_country as varchar)\n",
    "\n",
    "    where start_time >= '2022-02-01'\n",
    "        and ae.gas = 'co2e_100yr'\n",
    "        -- and original_inventory_sector in ('international-shipping','domestic-shipping','electricity-generation')\n",
    "        and most_granular = true\n",
    "\n",
    "    group by ca.name\n",
    "        , ae.iso3_country\n",
    "        , original_inventory_sector\n",
    "        , to_char(start_time, 'YYYY-MM')\n",
    "        , ae.gas\n",
    "'''\n",
    "\n",
    "asset_df = run_sql(asset_query)\n",
    "\n"
   ]
  },
  {
   "cell_type": "code",
   "execution_count": null,
   "id": "347b58e1",
   "metadata": {},
   "outputs": [
    {
     "name": "stdout",
     "output_type": "stream",
     "text": [
      "Running query... this will take a while...\n"
     ]
    },
    {
     "name": "stderr",
     "output_type": "stream",
     "text": [
      "Exporting full raw data to Parquet: 348chunk [03:55,  1.47chunk/s]"
     ]
    },
    {
     "name": "stdout",
     "output_type": "stream",
     "text": [
      "\n",
      "✅ Done! Total rows exported: 34,778,764\n"
     ]
    },
    {
     "name": "stderr",
     "output_type": "stream",
     "text": [
      "\n"
     ]
    }
   ],
   "source": [
    "from tqdm import tqdm\n",
    "import pandas as pd\n",
    "import pyarrow as pa\n",
    "import pyarrow.parquet as pq\n",
    "from sqlalchemy import create_engine\n",
    "import os\n",
    "from dotenv import load_dotenv\n",
    "from urllib.parse import quote_plus\n",
    "\n",
    "# Load .env\n",
    "load_dotenv()\n",
    "\n",
    "# Connection vars\n",
    "user = quote_plus(os.getenv(\"CLIMATETRACE_USER\"))\n",
    "password = quote_plus(os.getenv(\"CLIMATETRACE_PASS\"))\n",
    "host = os.getenv(\"CLIMATETRACE_HOST\")\n",
    "port = os.getenv(\"CLIMATETRACE_PORT\")\n",
    "database = os.getenv(\"CLIMATETRACE_DB\")\n",
    "\n",
    "engine = create_engine(f\"postgresql://{user}:{password}@{host}:{port}/{database}\")\n",
    "\n",
    "# Your raw (non-aggregated) query\n",
    "query = '''\n",
    "    SELECT ae.*,\n",
    "           ca.name AS country_name\n",
    "    FROM asset_emissions ae\n",
    "    LEFT JOIN country_analysis ca\n",
    "      ON CAST(ca.iso3_country AS VARCHAR) = CAST(ae.iso3_country AS VARCHAR)\n",
    "    WHERE ae.start_time >= '2022-02-01'\n",
    "      AND ae.gas = 'co2e_100yr'\n",
    "      AND ae.most_granular = TRUE\n",
    "'''\n",
    "\n",
    "# Output path\n",
    "os.makedirs(\"data/asset_parquet\", exist_ok=True)\n",
    "parquet_path = \"data/asset_parquet/asset_emissions_most_granular.parquet\"\n",
    "\n",
    "print('Running query... this will take a while...')\n",
    "# Start query with chunking\n",
    "chunk_iter = pd.read_sql_query(query, engine, chunksize=100_000)\n",
    "\n",
    "# Init variables\n",
    "parquet_writer = None\n",
    "total_rows = 0\n",
    "progress_bar = tqdm(desc=\"Exporting full raw data to Parquet\", unit=\"chunk\")\n",
    "\n",
    "# First chunk to define schema\n",
    "first_chunk = next(chunk_iter)\n",
    "table = pa.Table.from_pandas(first_chunk)\n",
    "parquet_writer = pq.ParquetWriter(parquet_path, table.schema)\n",
    "parquet_writer.write_table(table)\n",
    "total_rows += len(first_chunk)\n",
    "progress_bar.update(1)\n",
    "\n",
    "# Remaining chunks\n",
    "for chunk in chunk_iter:\n",
    "    # Align schema (just to be sure, if columns were reordered)\n",
    "    chunk_table = pa.Table.from_pandas(chunk).cast(table.schema)\n",
    "    parquet_writer.write_table(chunk_table)\n",
    "    total_rows += len(chunk)\n",
    "    progress_bar.update(1)\n",
    "\n",
    "parquet_writer.close()\n",
    "progress_bar.close()\n",
    "print(f\"\\n✅ Done! Total rows exported: {total_rows:,}\")\n"
   ]
  },
  {
   "cell_type": "code",
   "execution_count": 6,
   "id": "7c4186fc",
   "metadata": {},
   "outputs": [
    {
     "name": "stdout",
     "output_type": "stream",
     "text": [
      "(2022, 32463955811.255875)\n",
      "(2023, 50000020799.169)\n",
      "(2025, 7630239785.8226795)\n",
      "(2024, 51870569802.52423)\n",
      "[(2022, 32463955811.255875), (2023, 50000020799.169), (2025, 7630239785.8226795), (2024, 51870569802.52423)]\n"
     ]
    }
   ],
   "source": [
    "import duckdb\n",
    "\n",
    "con = duckdb.connect()\n",
    "\n",
    "# Replace with your actual path if needed\n",
    "parquet_path = \"data/asset_parquet/asset_emissions_most_granular.parquet\"\n",
    "\n",
    "# Count how many rows you actually wrote\n",
    "result = con.execute(f\"SELECT extract(year from start_time) as year, sum(emissions_quantity) FROM '{parquet_path}' group by extract(year from start_time)\").fetchall()\n",
    "\n",
    "for row in result:\n",
    "    print(row)\n",
    "print(result)\n"
   ]
  },
  {
   "cell_type": "code",
   "execution_count": null,
   "id": "38c52d1e",
   "metadata": {},
   "outputs": [],
   "source": []
  }
 ],
 "metadata": {
  "kernelspec": {
   "display_name": ".venv",
   "language": "python",
   "name": "python3"
  },
  "language_info": {
   "codemirror_mode": {
    "name": "ipython",
    "version": 3
   },
   "file_extension": ".py",
   "mimetype": "text/x-python",
   "name": "python",
   "nbconvert_exporter": "python",
   "pygments_lexer": "ipython3",
   "version": "3.12.8"
  }
 },
 "nbformat": 4,
 "nbformat_minor": 5
}
