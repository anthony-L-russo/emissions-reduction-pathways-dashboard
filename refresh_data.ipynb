{
 "cells": [
  {
   "cell_type": "code",
   "execution_count": null,
   "id": "21ce7317",
   "metadata": {},
   "outputs": [],
   "source": [
    "from utils.run_sql import run_sql\n",
    "\n",
    "# grabbing data from asset table\n",
    "asset_query = '''\n",
    "    select ca.name country_name\n",
    "        , ae.iso3_country\n",
    "        , original_inventory_sector\n",
    "        , to_char(start_time, 'YYYY-MM') as year_month\n",
    "        , ae.gas\n",
    "        , sum(activity) activity\n",
    "        , avg(emissions_factor) mean_emissions_factor\n",
    "        , sum(emissions_quantity) emissions_quantity\n",
    "\n",
    "    from asset_emissions ae\n",
    "    left join country_analysis ca\n",
    "        on cast(ca.iso3_country as varchar) = cast(ae.iso3_country as varchar)\n",
    "\n",
    "    where start_time >= '2022-02-01'\n",
    "        and ae.gas = 'co2e_100yr'\n",
    "        -- and original_inventory_sector in ('international-shipping','domestic-shipping','electricity-generation')\n",
    "        and most_granular = true\n",
    "\n",
    "    group by ca.name\n",
    "        , ae.iso3_country\n",
    "        , original_inventory_sector\n",
    "        , to_char(start_time, 'YYYY-MM')\n",
    "        , ae.gas\n",
    "'''\n",
    "\n",
    "asset_df = run_sql(asset_query)\n",
    "\n"
   ]
  },
  {
   "cell_type": "code",
   "execution_count": null,
   "id": "347b58e1",
   "metadata": {},
   "outputs": [],
   "source": [
    "import duckdb\n",
    "import os\n",
    "from dotenv import load_dotenv\n",
    "from urllib.parse import quote_plus\n",
    "from sqlalchemy import create_engine\n",
    "\n",
    "load_dotenv()\n",
    "\n",
    "# Build SQLAlchemy engine for PostgreSQL\n",
    "user = quote_plus(os.getenv(\"CLIMATETRACE_USER\"))\n",
    "password = quote_plus(os.getenv(\"CLIMATETRACE_PASS\"))\n",
    "host = os.getenv(\"CLIMATETRACE_HOST\")\n",
    "port = os.getenv(\"CLIMATETRACE_PORT\")\n",
    "database = os.getenv(\"CLIMATETRACE_DB\")\n",
    "\n",
    "postgres_url = f\"postgresql://{user}:{password}@{host}:{port}/{database}\"\n",
    "parquet_path = \"data/asset_parquet/asset_emissions_most_granular.parquet\"\n",
    "os.makedirs(\"data/asset_parquet\", exist_ok=True)\n",
    "\n",
    "\n",
    "print(\"Running query and writing to parquet file, this may take an hour...\")\n",
    "# Use DuckDB to write directly from PostgreSQL to Parquet\n",
    "con = duckdb.connect()\n",
    "con.execute(f\"\"\"\n",
    "    INSTALL postgres;\n",
    "    LOAD postgres;\n",
    "\n",
    "    CREATE TABLE asset_emissions_parquet AS\n",
    "    SELECT ae.*,\n",
    "           sch.sector,\n",
    "           ca.name as country_name,\n",
    "           ca.continent,\n",
    "           ca.unfccc_annex,\n",
    "           ca.em_finance,\n",
    "           ca.eu,\n",
    "           ca.oecd,\n",
    "           ca.developed_un\n",
    "    FROM postgres_scan('{postgres_url}', 'public', 'asset_emissions') ae\n",
    "    LEFT JOIN postgres_scan('{postgres_url}', 'public', 'country_analysis') ca\n",
    "        ON CAST(ca.iso3_country AS VARCHAR) = CAST(ae.iso3_country AS VARCHAR)\n",
    "    LEFT JOIN (\n",
    "        SELECT DISTINCT sector, subsector FROM postgres_scan('{postgres_url}', 'public', 'asset_schema')\n",
    "    ) sch\n",
    "        ON CAST(sch.subsector AS VARCHAR) = CAST(ae.original_inventory_sector AS VARCHAR)\n",
    "    WHERE ae.start_time >= DATE '2022-02-01'\n",
    "      AND ae.gas = 'co2e_100yr'\n",
    "      AND ae.most_granular = TRUE;\n",
    "\n",
    "    COPY asset_emissions_parquet TO '{parquet_path}' (FORMAT PARQUET);\n",
    "\"\"\")\n",
    "con.close()\n",
    "\n",
    "print(\"Parquet file exported!\")"
   ]
  },
  {
   "cell_type": "code",
   "execution_count": 3,
   "id": "7c4186fc",
   "metadata": {},
   "outputs": [
    {
     "name": "stdout",
     "output_type": "stream",
     "text": [
      "   count_star()\n",
      "0      34778764\n"
     ]
    }
   ],
   "source": [
    "import duckdb\n",
    "\n",
    "con = duckdb.connect()\n",
    "\n",
    "# Replace with your actual path if needed\n",
    "parquet_path = \"data/asset_parquet/asset_emissions_most_granular.parquet\"\n",
    "\n",
    "# Count how many rows you actually wrote\n",
    "result = con.execute(f\"SELECT count(*) FROM '{parquet_path}' \").df()\n",
    "\n",
    "\n",
    "print(result)\n"
   ]
  },
  {
   "cell_type": "code",
   "execution_count": 4,
   "id": "38c52d1e",
   "metadata": {},
   "outputs": [
    {
     "name": "stdout",
     "output_type": "stream",
     "text": [
      "{'column_name': 'eu', 'column_value': True}\n"
     ]
    }
   ],
   "source": [
    "from utils.utils import map_region_condition\n",
    "\n",
    "print(map_region_condition('EU'))"
   ]
  },
  {
   "cell_type": "code",
   "execution_count": null,
   "id": "ba171f43",
   "metadata": {},
   "outputs": [],
   "source": [
    "# map_region_condition(region_selection)\n",
    "\n",
    "test = map_region_condition('Asia')\n",
    "\n",
    "print(test)\n",
    "print(test['column_name'])\n",
    "print(test['column_value'])"
   ]
  },
  {
   "cell_type": "code",
   "execution_count": null,
   "id": "26765541",
   "metadata": {},
   "outputs": [],
   "source": []
  }
 ],
 "metadata": {
  "kernelspec": {
   "display_name": ".venv",
   "language": "python",
   "name": "python3"
  },
  "language_info": {
   "codemirror_mode": {
    "name": "ipython",
    "version": 3
   },
   "file_extension": ".py",
   "mimetype": "text/x-python",
   "name": "python",
   "nbconvert_exporter": "python",
   "pygments_lexer": "ipython3",
   "version": "3.12.8"
  }
 },
 "nbformat": 4,
 "nbformat_minor": 5
}
