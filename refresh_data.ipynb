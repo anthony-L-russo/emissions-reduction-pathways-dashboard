{
 "cells": [
  {
   "cell_type": "code",
   "execution_count": 1,
   "id": "21ce7317",
   "metadata": {},
   "outputs": [
    {
     "name": "stderr",
     "output_type": "stream",
     "text": [
      "/Users/anthonyrusso/Documents/statistics-visualization-tool/utils/run_sql.py:28: UserWarning: pandas only supports SQLAlchemy connectable (engine/connection) or database string URI or sqlite3 DBAPI2 connection. Other DBAPI2 objects are not tested. Please consider using SQLAlchemy.\n",
      "  result = pd.read_sql(query, conn)\n"
     ]
    }
   ],
   "source": [
    "from utils.run_sql import run_sql\n",
    "\n",
    "# grabbing data from asset table\n",
    "asset_query = '''\n",
    "    select ca.name country_name\n",
    "        , ae.iso3_country\n",
    "        , original_inventory_sector\n",
    "        , to_char(start_time, 'YYYY-MM') as year_month\n",
    "        , ae.gas\n",
    "        , sum(activity) activity\n",
    "        , avg(emissions_factor) mean_emissions_factor\n",
    "        , sum(emissions_quantity) emissions_quantity\n",
    "\n",
    "    from asset_emissions ae\n",
    "    left join country_analysis ca\n",
    "        on cast(ca.iso3_country as varchar) = cast(ae.iso3_country as varchar)\n",
    "\n",
    "    where extract(year from start_time) >= 2023\n",
    "        and ae.gas = 'co2e_100yr'\n",
    "        and original_inventory_sector in ('international-shipping','domestic-shipping','electricity-generation')\n",
    "        and most_granular = true\n",
    "\n",
    "    group by ca.name\n",
    "        , ae.iso3_country\n",
    "        , original_inventory_sector\n",
    "        , to_char(start_time, 'YYYY-MM')\n",
    "        , end_time\n",
    "        , ae.gas\n",
    "'''\n",
    "\n",
    "asset_df = run_sql(asset_query)\n",
    "\n",
    "# asset_df.to_csv('data/country_monthly/month_country_subsector.csv', index=False)"
   ]
  }
 ],
 "metadata": {
  "kernelspec": {
   "display_name": ".venv",
   "language": "python",
   "name": "python3"
  },
  "language_info": {
   "codemirror_mode": {
    "name": "ipython",
    "version": 3
   },
   "file_extension": ".py",
   "mimetype": "text/x-python",
   "name": "python",
   "nbconvert_exporter": "python",
   "pygments_lexer": "ipython3",
   "version": "3.12.8"
  }
 },
 "nbformat": 4,
 "nbformat_minor": 5
}
