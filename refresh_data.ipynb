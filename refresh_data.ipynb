{
 "cells": [
  {
   "cell_type": "code",
   "execution_count": 3,
   "id": "347b58e1",
   "metadata": {},
   "outputs": [
    {
     "ename": "ModuleNotFoundError",
     "evalue": "No module named 'duckdb'",
     "output_type": "error",
     "traceback": [
      "\u001b[0;31m---------------------------------------------------------------------------\u001b[0m",
      "\u001b[0;31mModuleNotFoundError\u001b[0m                       Traceback (most recent call last)",
      "Cell \u001b[0;32mIn[3], line 5\u001b[0m\n\u001b[1;32m      1\u001b[0m \u001b[38;5;124;03m'''\u001b[39;00m\n\u001b[1;32m      2\u001b[0m \u001b[38;5;124;03mThis code will update the asset data\u001b[39;00m\n\u001b[1;32m      3\u001b[0m \u001b[38;5;124;03m'''\u001b[39;00m\n\u001b[0;32m----> 5\u001b[0m \u001b[38;5;28;01mimport\u001b[39;00m\u001b[38;5;250m \u001b[39m\u001b[38;5;21;01mduckdb\u001b[39;00m\n\u001b[1;32m      6\u001b[0m \u001b[38;5;28;01mimport\u001b[39;00m\u001b[38;5;250m \u001b[39m\u001b[38;5;21;01mos\u001b[39;00m\n\u001b[1;32m      7\u001b[0m \u001b[38;5;28;01mfrom\u001b[39;00m\u001b[38;5;250m \u001b[39m\u001b[38;5;21;01mdotenv\u001b[39;00m\u001b[38;5;250m \u001b[39m\u001b[38;5;28;01mimport\u001b[39;00m load_dotenv\n",
      "\u001b[0;31mModuleNotFoundError\u001b[0m: No module named 'duckdb'"
     ]
    }
   ],
   "source": [
    "'''\n",
    "This code will update the asset data\n",
    "'''\n",
    "\n",
    "import duckdb\n",
    "import os\n",
    "from dotenv import load_dotenv\n",
    "from urllib.parse import quote_plus\n",
    "from sqlalchemy import create_engine\n",
    "\n",
    "load_dotenv()\n",
    "\n",
    "# Build SQLAlchemy engine for PostgreSQL\n",
    "user = quote_plus(os.getenv(\"CLIMATETRACE_USER\"))\n",
    "password = quote_plus(os.getenv(\"CLIMATETRACE_PASS\"))\n",
    "host = os.getenv(\"CLIMATETRACE_HOST\")\n",
    "port = os.getenv(\"CLIMATETRACE_PORT\")\n",
    "database = os.getenv(\"CLIMATETRACE_DB\")\n",
    "\n",
    "postgres_url = f\"postgresql://{user}:{password}@{host}:{port}/{database}\"\n",
    "parquet_path = \"data/asset_emissions_country_subsector.parquet\"\n",
    "os.makedirs(\"data/asset_parquet\", exist_ok=True)\n",
    "\n",
    "\n",
    "print(\"Running query and writing to parquet file, this may take an hour...\")\n",
    "# Use DuckDB to write directly from PostgreSQL to Parquet\n",
    "con = duckdb.connect()\n",
    "con.execute(f\"\"\"\n",
    "    INSTALL postgres;\n",
    "    LOAD postgres;\n",
    "\n",
    "    CREATE TABLE asset_emissions_parquet AS\n",
    "    SELECT ae.iso3_country,\n",
    "        ae.original_inventory_sector,\n",
    "        ae.start_time,\n",
    "        ae.gas,\n",
    "        sch.sector,\n",
    "        ca.name as country_name,\n",
    "        ca.continent,\n",
    "        ca.unfccc_annex,\n",
    "        ca.em_finance,\n",
    "        ca.eu,\n",
    "        ca.oecd,\n",
    "        ca.developed_un,\n",
    "        ae.release,\n",
    "        sum(emissions_quantity) emissions_quantity,\n",
    "        sum(activity) activity,\n",
    "        sum(emissions_quantity) / sum(activity) weighted_average_emissions_factor\n",
    "    FROM postgres_scan('{postgres_url}', 'public', 'asset_emissions') ae\n",
    "    LEFT JOIN postgres_scan('{postgres_url}', 'public', 'country_analysis') ca\n",
    "        ON CAST(ca.iso3_country AS VARCHAR) = CAST(ae.iso3_country AS VARCHAR)\n",
    "    LEFT JOIN (\n",
    "        SELECT DISTINCT sector, subsector FROM postgres_scan('{postgres_url}', 'public', 'asset_schema')\n",
    "    ) sch\n",
    "        ON CAST(sch.subsector AS VARCHAR) = CAST(ae.original_inventory_sector AS VARCHAR)\n",
    "    WHERE ae.start_time >= DATE '2022-03-01'\n",
    "      AND ae.gas = 'co2e_100yr'\n",
    "      AND ae.most_granular = TRUE\n",
    "      \n",
    "    group by ae.iso3_country,\n",
    "        ae.original_inventory_sector,\n",
    "        ae.start_time,\n",
    "        ae.gas,\n",
    "        sch.sector,\n",
    "        ca.name,\n",
    "        ca.continent,\n",
    "        ca.unfccc_annex,\n",
    "        ca.em_finance,\n",
    "        ca.eu,\n",
    "        ca.oecd,\n",
    "        ca.developed_un,\n",
    "        ae.release;\n",
    "\n",
    "    COPY asset_emissions_parquet TO '{parquet_path}' (FORMAT PARQUET);\n",
    "\"\"\")\n",
    "con.close()\n",
    "\n",
    "print(\"Parquet file exported!\")"
   ]
  },
  {
   "cell_type": "code",
   "execution_count": 1,
   "id": "4f4f87f7",
   "metadata": {},
   "outputs": [
    {
     "name": "stdout",
     "output_type": "stream",
     "text": [
      "/usr/local/bin/python3\n"
     ]
    }
   ],
   "source": [
    "import sys\n",
    "print(sys.executable)\n",
    "\n"
   ]
  },
  {
   "cell_type": "code",
   "execution_count": null,
   "id": "38c52d1e",
   "metadata": {},
   "outputs": [],
   "source": [
    "'''\n",
    "This is a script to take raw csvs in data/raw_csvs folder and covert them to \n",
    "parquets for manageable GitHub storage and limited memory usage (DuckDB).\n",
    "'''\n",
    "\n",
    "import pandas as pd\n",
    "from pathlib import Path\n",
    "\n",
    "# Set input and output directories\n",
    "input_dir = Path(\"data/raw_csvs\")\n",
    "output_dir = Path(\"data\")\n",
    "\n",
    "# Make sure the output directory exists\n",
    "output_dir.mkdir(parents=True, exist_ok=True)\n",
    "\n",
    "# Loop through all CSV files in the input directory\n",
    "for csv_file in input_dir.glob(\"*.csv\"):\n",
    "    print(f\"Converting {csv_file.name}...\")\n",
    "\n",
    "    # Read CSV into DataFrame\n",
    "    df = pd.read_csv(csv_file)\n",
    "\n",
    "    # Create output path by replacing .csv with .parquet\n",
    "    parquet_file = output_dir / csv_file.with_suffix(\".parquet\").name\n",
    "\n",
    "    # Write to Parquet\n",
    "    df.to_parquet(parquet_file, engine=\"pyarrow\", index=False)\n",
    "    print(f\"Saved to {parquet_file}\")\n",
    "\n",
    "     # Delete original CSV\n",
    "    csv_file.unlink()\n",
    "    print(f\"Deleted original CSV: {csv_file.name}\")\n",
    "\n",
    "print(\"✅ CSV to Parquet conversion complete.\")"
   ]
  },
  {
   "cell_type": "code",
   "execution_count": null,
   "id": "ba171f43",
   "metadata": {},
   "outputs": [],
   "source": [
    "# map_region_condition(region_selection)\n",
    "\n",
    "test = map_region_condition('Asia')\n",
    "\n",
    "print(test)\n",
    "print(test['column_name'])\n",
    "print(test['column_value'])"
   ]
  },
  {
   "cell_type": "code",
   "execution_count": null,
   "id": "7c4186fc",
   "metadata": {},
   "outputs": [],
   "source": [
    "import duckdb\n",
    "\n",
    "con = duckdb.connect()\n",
    "\n",
    "# Replace with your actual path if needed\n",
    "parquet_path = \"data/asset_parquet/asset_emissions_country_subsector.parquet\"\n",
    "\n",
    "# Count how many rows you actually wrote\n",
    "result = con.execute(f\"\"\"SELECT sum(emissions_quantity) FROM '{parquet_path}' where start_time = '2025-02-01' and original_inventory_sector not in ('forest-land-clearing',\n",
    "                                                'forest-land-degradation',\n",
    "                                                'forest-land-fires',\n",
    "                                                'net-forest-land',\n",
    "                                                'net-shrubgrass',\n",
    "                                                'net-wetland',\n",
    "                                                'removals',\n",
    "                                                'shrubgrass-fires',\n",
    "                                                'water-reservoirs',\n",
    "                                                'wetland-fires')\"\"\").df()\n",
    "\n",
    "\n",
    "print(result)"
   ]
  },
  {
   "cell_type": "code",
   "execution_count": null,
   "id": "f467b0bb",
   "metadata": {},
   "outputs": [],
   "source": [
    "import duckdb\n",
    "\n",
    "con = duckdb.connect()\n",
    "\n",
    "# parquet_path = \"data/country_subsector_emissions_totals_202504.parquet\"\n",
    "parquet_path = \"data/asset_emissions_country_subsector.parquet\"\n",
    "\n",
    "result = con.execute(f\"\"\" \n",
    "                     SELECT DISTINCT original_inventory_sector\n",
    "      FROM '{parquet_path}'\n",
    "      WHERE gas = 'co2e_100yr'\n",
    "         AND iso3_country = 'USA'\n",
    "\"\"\"\n",
    ").df()\n",
    "\n",
    "print(result)"
   ]
  },
  {
   "cell_type": "code",
   "execution_count": null,
   "id": "11551b2f",
   "metadata": {},
   "outputs": [],
   "source": [
    "import duckdb\n",
    "\n",
    "con = duckdb.connect()\n",
    "\n",
    "result = con.execute(f\"\"\"\n",
    "                         SELECT \n",
    "        strftime(start_time, '%Y-%m') AS year_month,\n",
    "        SUM(activity) AS activity,\n",
    "        SUM(emissions_quantity) AS emissions_quantity\n",
    "    FROM 'data/asset_emissions_country_subsector.parquet'\n",
    "    WHERE gas = 'co2e_100yr' AND original_inventory_sector = 'coal-mining'\n",
    "        and original_inventory_sector not in ('forest-land-clearing',\n",
    "                                                'forest-land-degradation',\n",
    "                                                'forest-land-fires',\n",
    "                                                'net-forest-land',\n",
    "                                                'net-shrubgrass',\n",
    "                                                'net-wetland',\n",
    "                                                'removals',\n",
    "                                                'shrubgrass-fires',\n",
    "                                                'water-reservoirs',\n",
    "                                                'wetland-fires')\n",
    "    GROUP BY year_month\n",
    "    ORDER BY year_month\n",
    "                     \"\"\")"
   ]
  },
  {
   "cell_type": "code",
   "execution_count": null,
   "id": "d72d7c42",
   "metadata": {},
   "outputs": [],
   "source": [
    "result"
   ]
  },
  {
   "cell_type": "code",
   "execution_count": null,
   "id": "71c944ea",
   "metadata": {},
   "outputs": [],
   "source": [
    "result.df()"
   ]
  },
  {
   "cell_type": "code",
   "execution_count": null,
   "id": "f8defd83",
   "metadata": {},
   "outputs": [],
   "source": []
  }
 ],
 "metadata": {
  "kernelspec": {
   "display_name": "Python 3",
   "language": "python",
   "name": "python3"
  },
  "language_info": {
   "codemirror_mode": {
    "name": "ipython",
    "version": 3
   },
   "file_extension": ".py",
   "mimetype": "text/x-python",
   "name": "python",
   "nbconvert_exporter": "python",
   "pygments_lexer": "ipython3",
   "version": "3.12.8"
  }
 },
 "nbformat": 4,
 "nbformat_minor": 5
}
